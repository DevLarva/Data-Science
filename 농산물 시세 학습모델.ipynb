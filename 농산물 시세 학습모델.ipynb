{
  "nbformat": 4,
  "nbformat_minor": 0,
  "metadata": {
    "colab": {
      "private_outputs": true,
      "provenance": [],
      "collapsed_sections": [],
      "include_colab_link": true
    },
    "kernelspec": {
      "name": "python3",
      "display_name": "Python 3"
    },
    "language_info": {
      "name": "python"
    }
  },
  "cells": [
    {
      "cell_type": "markdown",
      "metadata": {
        "id": "view-in-github",
        "colab_type": "text"
      },
      "source": [
        "<a href=\"https://colab.research.google.com/github/bdh3620/Data-Science/blob/main/%ED%95%99%EC%8A%B5%EB%AA%A8%EB%8D%B8.ipynb\" target=\"_parent\"><img src=\"https://colab.research.google.com/assets/colab-badge.svg\" alt=\"Open In Colab\"/></a>"
      ]
    },
    {
      "cell_type": "code",
      "execution_count": null,
      "metadata": {
        "id": "-4AO4gnPnChR"
      },
      "outputs": [],
      "source": [
        "from google.colab import drive\n",
        "drive.mount('/content/drive')\n",
        "import tensorflow as tf   \n",
        "import numpy as np               \n",
        "import tensorflow.compat.v1 as tf\n",
        "tf.disable_v2_behavior()               \n",
        "from pandas.io.parsers import read_csv\n",
        "import pandas as pd\n",
        "tf.compat.v1.experimental.output_all_intermediates(True)"
      ]
    },
    {
      "cell_type": "code",
      "source": [
        "filename = '/content/drive/MyDrive/Vegit/Sesame_data New.csv'\n",
        "data = pd.read_csv(filename)\n",
        "xy= np.array(data, dtype=np.float32)\n",
        "print(data)"
      ],
      "metadata": {
        "id": "AUWXQHxJnUM8"
      },
      "execution_count": null,
      "outputs": []
    },
    {
      "cell_type": "code",
      "source": [
        "# 4개의 변인을 입력\n",
        "x_data=xy[:, 1:5] \n",
        "\n",
        "\n",
        "# 가격 값을 입력\n",
        "y_data=xy[:, [-1]]\n",
        "print(y_data)\n",
        "# 플레이스 홀더 설정\n",
        "X = tf.placeholder(tf.float32,shape=[None, 4])\n",
        "Y = tf.placeholder(tf.float32,shape=[None, 1])\n",
        "W = tf.Variable(tf.random_normal([4,1]),name=\"weight\")\n",
        "b = tf.Variable(tf.random_normal([1]),name=\"bias\")"
      ],
      "metadata": {
        "id": "HKc3LaXDnUQm"
      },
      "execution_count": null,
      "outputs": []
    },
    {
      "cell_type": "code",
      "source": [
        "# 가설을 설정\n",
        "hypothesis =tf.matmul(X,W)+ b\n",
        "\n",
        "# 비용 함수를 설정\n",
        "cost = tf.reduce_mean(tf.square(hypothesis - Y))\n",
        "\n",
        "# 최적화 함수를 설정\n",
        "optimizer = tf.train.GradientDescentOptimizer(learning_rate = 0.000005)\n",
        "train = optimizer.minimize(cost)\n",
        "\n",
        "# 세션을 생성\n",
        "sess =tf.Session()\n",
        "# 글로벌 변수를 초기화\n",
        "sess.run(tf.global_variables_initializer())"
      ],
      "metadata": {
        "id": "RWVPeXjknUTc"
      },
      "execution_count": null,
      "outputs": []
    },
    {
      "cell_type": "code",
      "source": [
        "# 학습 수행\n",
        "for step in range(100001):\n",
        "   cost_, hypo_, _ = sess.run([cost, hypothesis, train], feed_dict={X: x_data, Y: y_data})\n",
        "   if step % 1000 == 0:\n",
        "        print(\"#\", step, \" 손실 비용: \", cost_)\n",
        "\n",
        "        print(\"- 예상 가격: \", hypo_[0])"
      ],
      "metadata": {
        "id": "jUnXFmm8nUgQ"
      },
      "execution_count": null,
      "outputs": []
    },
    {
      "cell_type": "code",
      "source": [
        "#학습된 모델 저장\n",
        "saver = tf.train.Saver()\n",
        "tf.train.Saver().save(sess, \"/content/drive/MyDrive/Vegit/sesame/sesame.ckpt\")\n",
        "tf.train.write_graph(sess.graph_def, \"/content/drive/MyDrive/Vegit/sesame\", 'sesame.pb', as_text=False)\n",
        "tf.train.write_graph(sess.graph_def, \"/content/drive/MyDrive/Vegit/sesame\", 'sesame.pbtxt', as_text=True )"
      ],
      "metadata": {
        "id": "ZlDrAcpvnUiz"
      },
      "execution_count": null,
      "outputs": []
    }
  ]
}
